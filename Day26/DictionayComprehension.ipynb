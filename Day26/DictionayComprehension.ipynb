{
 "cells": [
  {
   "cell_type": "code",
   "execution_count": 3,
   "id": "8d7ccaf3",
   "metadata": {},
   "outputs": [],
   "source": [
    "#Dictionary comprehension\n",
    "#template - 1 \n",
    "# new_dic = {new_key:new_value for item in list}\n",
    "\n",
    "# template - 2\n",
    "#new_dic = {new_key:new_value for (key, value) in dict.items()}\n",
    "\n",
    "#conditional dicitionary comprehension\n",
    "#new_dic = {new_key:new_value for (key, value) in dict.items() if test}"
   ]
  },
  {
   "cell_type": "code",
   "execution_count": null,
   "id": "0caaac58",
   "metadata": {},
   "outputs": [
    {
     "name": "stdout",
     "output_type": "stream",
     "text": [
      "{'Alice': 21, 'Bob': 15, 'Charlie': 17, 'Daniel': 34, 'Felix': 27, 'Ganesh': 28}\n"
     ]
    }
   ],
   "source": [
    "import random\n",
    "names = [\"Alice\", \"Bob\", \"Charlie\", \"Daniel\", \"Felix\", \"Ganesh\"]\n",
    "student_scores = {student:random.randint(15, 51) for student in names}\n",
    "print(student_scores)\n",
    "\n",
    "#passed students and their score\n",
    "passed_students = {student:score for (student, score) in student_scores.items() if score > 25}\n",
    "print(passed_students)"
   ]
  }
 ],
 "metadata": {
  "kernelspec": {
   "display_name": "base",
   "language": "python",
   "name": "python3"
  },
  "language_info": {
   "codemirror_mode": {
    "name": "ipython",
    "version": 3
   },
   "file_extension": ".py",
   "mimetype": "text/x-python",
   "name": "python",
   "nbconvert_exporter": "python",
   "pygments_lexer": "ipython3",
   "version": "3.13.5"
  }
 },
 "nbformat": 4,
 "nbformat_minor": 5
}
