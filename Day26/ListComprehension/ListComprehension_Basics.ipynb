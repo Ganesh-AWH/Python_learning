{
 "cells": [
  {
   "cell_type": "code",
   "execution_count": 4,
   "id": "0d8b9e75",
   "metadata": {},
   "outputs": [
    {
     "name": "stdout",
     "output_type": "stream",
     "text": [
      "[2, 3, 4]\n"
     ]
    }
   ],
   "source": [
    "#normal creating of new list\n",
    "numbers = [1,2,3]\n",
    "new_list = []\n",
    "for n in numbers:\n",
    "    new_num = n + 1\n",
    "    new_list.append(new_num)\n",
    "\n",
    "print(new_list)"
   ]
  },
  {
   "cell_type": "code",
   "execution_count": 5,
   "id": "cc607bbe",
   "metadata": {},
   "outputs": [
    {
     "name": "stdout",
     "output_type": "stream",
     "text": [
      "[2, 3, 4]\n"
     ]
    }
   ],
   "source": [
    "#list comprehension \n",
    "#template\n",
    "# new_list = [new_item for item in list]\n",
    "\n",
    "new_list = [n+1 for n in numbers]\n",
    "print(new_list)"
   ]
  },
  {
   "cell_type": "code",
   "execution_count": 7,
   "id": "c509a3e1",
   "metadata": {},
   "outputs": [
    {
     "name": "stdout",
     "output_type": "stream",
     "text": [
      "['S', 'a', 't', 'h', 'i', 's', 'h']\n"
     ]
    }
   ],
   "source": [
    "#list comprehension with string\n",
    "name = \"Sathish\"\n",
    "list = [letter for letter in name]\n",
    "print(list)"
   ]
  },
  {
   "cell_type": "code",
   "execution_count": 8,
   "id": "146d633c",
   "metadata": {},
   "outputs": [
    {
     "name": "stdout",
     "output_type": "stream",
     "text": [
      "[2, 4, 6, 8]\n"
     ]
    }
   ],
   "source": [
    "#list comprehension with range()\n",
    "doubled = [i*2 for i in range(1, 5)]\n",
    "print(doubled)"
   ]
  },
  {
   "cell_type": "code",
   "execution_count": null,
   "id": "c95ef507",
   "metadata": {},
   "outputs": [],
   "source": [
    "#conditional list comprehension \n",
    "#template \n",
    "# new_list = [new_item for item in list if condition]\n"
   ]
  },
  {
   "cell_type": "code",
   "execution_count": 9,
   "id": "80394df5",
   "metadata": {},
   "outputs": [
    {
     "name": "stdout",
     "output_type": "stream",
     "text": [
      "[10, 6, 8, 11, 7]\n"
     ]
    }
   ],
   "source": [
    "#taking numbers > 5 in list\n",
    "numbers = [10, 3, 6, 8, 4, 11, 7]\n",
    "greater_number = [number for number in numbers if number > 5]\n",
    "print(greater_number)"
   ]
  },
  {
   "cell_type": "code",
   "execution_count": null,
   "id": "3a428577",
   "metadata": {},
   "outputs": [],
   "source": []
  }
 ],
 "metadata": {
  "kernelspec": {
   "display_name": "base",
   "language": "python",
   "name": "python3"
  },
  "language_info": {
   "codemirror_mode": {
    "name": "ipython",
    "version": 3
   },
   "file_extension": ".py",
   "mimetype": "text/x-python",
   "name": "python",
   "nbconvert_exporter": "python",
   "pygments_lexer": "ipython3",
   "version": "3.13.5"
  }
 },
 "nbformat": 4,
 "nbformat_minor": 5
}
