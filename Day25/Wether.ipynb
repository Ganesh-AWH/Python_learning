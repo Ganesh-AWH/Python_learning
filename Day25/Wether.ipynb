{
 "cells": [
  {
   "cell_type": "code",
   "execution_count": 1,
   "id": "7260f8b2",
   "metadata": {},
   "outputs": [
    {
     "name": "stdout",
     "output_type": "stream",
     "text": [
      "         day  temp condition\n",
      "0     Monday    12     Sunny\n",
      "1    Tuesday    14      Rain\n",
      "2  Wednesday    15      Rain\n",
      "3   Thursday    14    Cloudy\n",
      "4     Friday    21     Sunny\n",
      "5   Saturday    22     Sunny\n",
      "6     Sunday    24     Sunny\n"
     ]
    }
   ],
   "source": [
    "import pandas as pd\n",
    "df = pd.read_csv('weather_data.csv')\n",
    "print(df)"
   ]
  },
  {
   "cell_type": "code",
   "execution_count": 2,
   "id": "aee4cc2a",
   "metadata": {},
   "outputs": [
    {
     "name": "stdout",
     "output_type": "stream",
     "text": [
      "{'day': {0: 'Monday', 1: 'Tuesday', 2: 'Wednesday', 3: 'Thursday', 4: 'Friday', 5: 'Saturday', 6: 'Sunday'}, 'temp': {0: 12, 1: 14, 2: 15, 3: 14, 4: 21, 5: 22, 6: 24}, 'condition': {0: 'Sunny', 1: 'Rain', 2: 'Rain', 3: 'Cloudy', 4: 'Sunny', 5: 'Sunny', 6: 'Sunny'}}\n"
     ]
    }
   ],
   "source": [
    "#converting to dictionary\n",
    "weather_dict = df.to_dict()\n",
    "print(weather_dict)"
   ]
  },
  {
   "cell_type": "code",
   "execution_count": 9,
   "id": "25f1dace",
   "metadata": {},
   "outputs": [
    {
     "name": "stdout",
     "output_type": "stream",
     "text": [
      "[12, 14, 15, 14, 21, 22, 24]\n",
      "Avg temperature: 17.43\n",
      "17.428571428571427\n",
      "24\n"
     ]
    }
   ],
   "source": [
    "from math import trunc\n",
    "\n",
    "\n",
    "weather_list = df['temp'].to_list()\n",
    "print(weather_list)\n",
    "avg = sum(weather_list)/ len(weather_list)\n",
    "print(f\"Avg temperature: {round(avg,2)}\")\n",
    "\n",
    "#for avg use mean in df \n",
    "print(df['temp'].mean())\n",
    "#max temperature\n",
    "print(df['temp'].max())"
   ]
  },
  {
   "cell_type": "code",
   "execution_count": 18,
   "id": "fd8fed75",
   "metadata": {},
   "outputs": [
    {
     "name": "stdout",
     "output_type": "stream",
     "text": [
      "0     Sunny\n",
      "1      Rain\n",
      "2      Rain\n",
      "3    Cloudy\n",
      "4     Sunny\n",
      "5     Sunny\n",
      "6     Sunny\n",
      "Name: condition, dtype: object\n"
     ]
    }
   ],
   "source": [
    "#getting data in columns\n",
    "print(df['condition'])\n",
    "\n"
   ]
  },
  {
   "cell_type": "code",
   "execution_count": 19,
   "id": "9351c7e3",
   "metadata": {},
   "outputs": [
    {
     "name": "stdout",
     "output_type": "stream",
     "text": [
      "      day  temp condition\n",
      "0  Monday    12     Sunny\n"
     ]
    }
   ],
   "source": [
    "#getting data in rows\n",
    "print(df[df.day == \"Monday\"])"
   ]
  },
  {
   "cell_type": "code",
   "execution_count": 17,
   "id": "03fc4351",
   "metadata": {},
   "outputs": [
    {
     "name": "stdout",
     "output_type": "stream",
     "text": [
      "      day  temp condition\n",
      "6  Sunday    24     Sunny\n"
     ]
    }
   ],
   "source": [
    "#challenge: taking the row which as high temperature\n",
    "max_temp = df[\"temp\"].max()\n",
    "print(df[df[\"temp\"] == max_temp])"
   ]
  },
  {
   "cell_type": "code",
   "execution_count": 20,
   "id": "0bb87f8c",
   "metadata": {},
   "outputs": [
    {
     "name": "stdout",
     "output_type": "stream",
     "text": [
      "0    Sunny\n",
      "Name: condition, dtype: object\n"
     ]
    }
   ],
   "source": [
    "#checking the condition for monday\n",
    "monday = df[df.day == \"Monday\"]\n",
    "print(monday.condition)"
   ]
  },
  {
   "cell_type": "code",
   "execution_count": 33,
   "id": "1bfc39f8",
   "metadata": {},
   "outputs": [
    {
     "name": "stdout",
     "output_type": "stream",
     "text": [
      "2473 103 392\n"
     ]
    }
   ],
   "source": [
    "#task: taking count of squirrel fur color\n",
    "import pandas\n",
    "\n",
    "\n",
    "df_sq = pd.read_csv(\"2018_Central_Park_Squirrel_Census_-_Squirrel_Data.csv\")\n",
    "grey_sq = len(df_sq[df_sq[\"Primary Fur Color\"] == \"Gray\"])\n",
    "black_sq = len(df_sq[df_sq[\"Primary Fur Color\"] == \"Black\"])\n",
    "cin_sq = len(df_sq[df_sq[\"Primary Fur Color\"] == \"Cinnamon\"])\n",
    "print(grey_sq, black_sq, cin_sq)\n",
    "\n",
    "data_dict = {\n",
    "    \"Fur color\" : [\"Gray\", \"Black\", \"Cinnamon\"],\n",
    "    \"Count\" : [grey_sq, black_sq, cin_sq]\n",
    "}\n",
    "\n",
    "dataf = pandas.DataFrame(data_dict)\n",
    "dataf.to_csv(\"squirrels_count.csv\")"
   ]
  }
 ],
 "metadata": {
  "kernelspec": {
   "display_name": "my_lab",
   "language": "python",
   "name": "python3"
  },
  "language_info": {
   "codemirror_mode": {
    "name": "ipython",
    "version": 3
   },
   "file_extension": ".py",
   "mimetype": "text/x-python",
   "name": "python",
   "nbconvert_exporter": "python",
   "pygments_lexer": "ipython3",
   "version": "3.9.23"
  }
 },
 "nbformat": 4,
 "nbformat_minor": 5
}
